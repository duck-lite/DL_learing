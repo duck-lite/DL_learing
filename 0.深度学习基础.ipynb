{
 "cells": [
  {
   "cell_type": "markdown",
   "metadata": {},
   "source": [
    "常见的神经网络:FNN(前馈),CNN(卷积),RNN(循环),Transformer"
   ]
  },
  {
   "cell_type": "code",
   "execution_count": 2,
   "metadata": {},
   "outputs": [],
   "source": [
    "#线性神经网络\n",
    "import torch\n",
    "from torch import nn  # ✅ 导入 nn 模块\n",
    "\n",
    "class LinearNet(nn.Module):\n",
    "    def __init__(self):\n",
    "        super().__init__()\n",
    "        self.linear = nn.Linear(2, 1)  # 输入特征是2，输出是1\n",
    "\n",
    "    def forward(self, x):\n",
    "        return self.linear(x)\n"
   ]
  },
  {
   "cell_type": "code",
   "execution_count": 3,
   "metadata": {},
   "outputs": [
    {
     "name": "stdout",
     "output_type": "stream",
     "text": [
      "tensor([[-1.2165],\n",
      "        [-1.3057]], grad_fn=<AddmmBackward0>)\n"
     ]
    }
   ],
   "source": [
    "net = LinearNet()\n",
    "x = torch.tensor([[1.0, 2.0], [3.0, 4.0]])  # 初始化一个输入,一个 shape 为 (2, 2) 的输入张量\n",
    "y = net(x)\n",
    "print(y)\n"
   ]
  }
 ],
 "metadata": {
  "kernelspec": {
   "display_name": "day1_env",
   "language": "python",
   "name": "python3"
  },
  "language_info": {
   "codemirror_mode": {
    "name": "ipython",
    "version": 3
   },
   "file_extension": ".py",
   "mimetype": "text/x-python",
   "name": "python",
   "nbconvert_exporter": "python",
   "pygments_lexer": "ipython3",
   "version": "3.8.20"
  }
 },
 "nbformat": 4,
 "nbformat_minor": 2
}
